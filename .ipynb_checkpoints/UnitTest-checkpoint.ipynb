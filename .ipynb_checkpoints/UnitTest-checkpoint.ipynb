{
 "cells": [
  {
   "cell_type": "code",
   "execution_count": 123,
   "metadata": {
    "collapsed": false
   },
   "outputs": [
    {
     "ename": "LoadError",
     "evalue": "LoadError: ArgumentError: ParallelGA not found in path\nwhile loading In[123], in expression starting on line 2",
     "output_type": "error",
     "traceback": [
      "LoadError: ArgumentError: ParallelGA not found in path\nwhile loading In[123], in expression starting on line 2",
      "",
      " in require at ./loading.jl:249"
     ]
    }
   ],
   "source": [
    "require(\"ParallelGA.jl\")\n",
    "include(\"testPGA.jl\")\n",
    "using ParallelGA\n",
    "require(\"testPGA.jl\")\n",
    "include(\"testPGA.jl\")"
   ]
  },
  {
   "cell_type": "code",
   "execution_count": 120,
   "metadata": {
    "collapsed": false
   },
   "outputs": [
    {
     "name": "stdout",
     "output_type": "stream",
     "text": [
      "Running is serial\n",
      "1 -1.0 226\n",
      "2 -1.0 56\n",
      "3 -1.0 231\n",
      "4 -1.0 66\n",
      "5 -1.0 74\n",
      "6 -1.0 40\n",
      "7 -1.0 463\n",
      "8 -1.0 181\n",
      "9 -1.0 220\n",
      "10 -1.0 6\n",
      "11 -1.0 234\n",
      "12 -1.0 19\n",
      "13 -1.0 387\n",
      "14 -1.0 126\n",
      "15 -1.0 285\n",
      "16 -1.0 82\n",
      "17 -1.0 227\n",
      "18 -1.0 147\n",
      "19 -1.0 177\n",
      "20 -1.0 316\n",
      "21 -1.0 365\n",
      "22 -1.0 83\n",
      "23 -1.0 74\n",
      "24 -1.0 254\n",
      "25 -1.0 63\n",
      "26 -1.0 14\n",
      "27 -1.0 39\n",
      "28 -1.0 265\n",
      "29 -1.0 217\n",
      "30 -1.0 318\n",
      "31 -1.0 34\n",
      "32 -1.0 323\n",
      "33 -1.0 39\n",
      "34 -1.0 7\n",
      "35 -1.0 98\n",
      "36 -1.0 208\n",
      "37 -1.0 77\n",
      "38 -1.0 92\n",
      "39 -1.0 192\n",
      "40 -1.0 193\n",
      "41 -1.0 95\n",
      "42 -1.0 167\n",
      "43 -1.0 91\n",
      "44 -1.0 0\n",
      "45 -1.0 159\n",
      "46 -1.0 104\n",
      "47 -1.0 241\n",
      "48 -1.0 146\n",
      "49 -1.0 295\n",
      "50 -1.0 33\n",
      "51 -1.0 285\n",
      "52 -1.0 526\n",
      "53 -1.0 306\n",
      "54 -1.0 35\n",
      "55 -1.0 59\n",
      "56 -1.0 163\n",
      "57 -1.0 162\n",
      "58 -1.0 341\n",
      "59 -1.0 84\n",
      "60 -1.0 10\n",
      "61 -1.0 231\n",
      "62 -1.0 173\n",
      "63 -1.0 27\n",
      "64 -1.0 578\n",
      "65 -1.0 167\n",
      "66 -1.0 45\n",
      "67 -1.0 300\n",
      "68 -1.0 98\n",
      "69 -1.0 125\n",
      "70 -1.0 190\n",
      "71 -1.0 118\n",
      "72 -1.0 90\n",
      "73 -1.0 294\n",
      "74 -1.0 22\n",
      "75 -1.0 410\n",
      "76 -1.0 130\n",
      "77 -1.0 40\n",
      "78 -1.0 70\n",
      "79 -1.0 301\n",
      "80 -1.0 93\n",
      "81 -1.0 245\n",
      "82 -1.0 73\n",
      "83 -1.0 19\n",
      "84 -1.0 265\n",
      "85 -1.0 116\n",
      "86 -1.0 47\n",
      "87 -1.0 306\n",
      "88 -1.0 72\n",
      "89 -1.0 13\n",
      "90 -1.0 206\n",
      "91 -1.0 438\n",
      "92 -1.0 61\n",
      "93 -1.0 28\n",
      "94 -1.0 38\n",
      "95 -1.0 362\n",
      "96 -1.0 264\n",
      "97 -1.0 138\n",
      "98 -1.0 81\n",
      "99 -1.0 248\n",
      "100 -1.0 62\n",
      "iter 0\n",
      "1 -1.0 RemoteException(1,CapturedException(BoundsError(Any[-18,18,24],(4,)),Any[(:fitness,symbol(\"/home/ubuntu/Workspace/CSCI6189/testPGA.jl\"),33,symbol(\"\"),-1,1),(:anonymous,symbol(\"multi.jl\"),700,symbol(\"\"),-1,1),(:run_work_thunk,symbol(\"multi.jl\"),661,symbol(\"\"),-1,1),(:remotecall_fetch,symbol(\"multi.jl\"),734,symbol(\"\"),-1,1),(:remotecall_fetch,symbol(\"multi.jl\"),750,symbol(\"\"),-1,1),(:anonymous,symbol(\"multi.jl\"),1474,symbol(\"task.jl\"),447,1)]))\n"
     ]
    },
    {
     "ename": "LoadError",
     "evalue": "LoadError: MethodError: `convert` has no method matching convert(::Type{Float64}, ::RemoteException)\nThis may have arisen from a call to the constructor Float64(...),\nsince type constructors fall back to convert methods.\nClosest candidates are:\n  call{T}(::Type{T}, ::Any)\n  convert(::Type{Float64}, !Matched::Int8)\n  convert(::Type{Float64}, !Matched::Int16)\n  ...\nwhile loading In[120], in expression starting on line 1",
     "output_type": "error",
     "traceback": [
      "LoadError: MethodError: `convert` has no method matching convert(::Type{Float64}, ::RemoteException)\nThis may have arisen from a call to the constructor Float64(...),\nsince type constructors fall back to convert methods.\nClosest candidates are:\n  call{T}(::Type{T}, ::Any)\n  convert(::Type{Float64}, !Matched::Int8)\n  convert(::Type{Float64}, !Matched::Int16)\n  ...\nwhile loading In[120], in expression starting on line 1",
      "",
      " in calcPareto at /home/ubuntu/Workspace/CSCI6189/ParallelGA.jl:52",
      " in iterate at /home/ubuntu/Workspace/CSCI6189/ParallelGA.jl:151",
      " in runga at /home/ubuntu/Workspace/CSCI6189/ParallelGA.jl:319"
     ]
    }
   ],
   "source": [
    "runga(testPGA, 1, 100, 100, 2, 0.1, 0.1,0.1)"
   ]
  },
  {
   "cell_type": "code",
   "execution_count": 121,
   "metadata": {
    "collapsed": false
   },
   "outputs": [
    {
     "name": "stdout",
     "output_type": "stream",
     "text": [
      "[2,3,4]\n"
     ]
    }
   ],
   "source": [
    "println([2,3,4])"
   ]
  },
  {
   "cell_type": "code",
   "execution_count": 80,
   "metadata": {
    "collapsed": false
   },
   "outputs": [
    {
     "name": "stdout",
     "output_type": "stream",
     "text": [
      "1 22\n",
      "2 3\n",
      "3 41\n"
     ]
    }
   ],
   "source": [
    "a = [22,3,41]\n",
    "for (ind, ent) in enumerate([22,3,41])\n",
    "    println(\"$(ind) $(ent)\")\n",
    "end"
   ]
  },
  {
   "cell_type": "code",
   "execution_count": 19,
   "metadata": {
    "collapsed": false
   },
   "outputs": [
    {
     "name": "stdout",
     "output_type": "stream",
     "text": [
      "Running is serial\n"
     ]
    },
    {
     "ename": "LoadError",
     "evalue": "LoadError: UndefVarError: P not defined\nwhile loading In[19], in expression starting on line 1",
     "output_type": "error",
     "traceback": [
      "LoadError: UndefVarError: P not defined\nwhile loading In[19], in expression starting on line 1",
      "",
      " in call at /home/ubuntu/Workspace/CSCI6189/ParallelGA.jl:40",
      " in runga at /home/ubuntu/Workspace/CSCI6189/ParallelGA.jl:313"
     ]
    }
   ],
   "source": []
  },
  {
   "cell_type": "code",
   "execution_count": 12,
   "metadata": {
    "collapsed": false
   },
   "outputs": [
    {
     "name": "stdout",
     "output_type": "stream",
     "text": [
      "                          Base  25128 KB     Module\n",
      "                        Compat    113 KB     Module\n",
      "                          Core   3190 KB     Module\n",
      "                        IJulia    413 KB     Module\n",
      "                IPythonDisplay     27 KB     Module\n",
      "                          JSON    194 KB     Module\n",
      "                          Main  28423 KB     Module\n",
      "                        Nettle     57 KB     Module\n",
      "                    ParallelGA     34 KB     Module\n",
      "                    TestEntity    148 bytes  DataType\n",
      "                           ZMQ     79 KB     Module\n",
      "                       gamodel     64 bytes  ParallelGA.GAmodel\n",
      "                       testPGA   6949 bytes  Module\n"
     ]
    }
   ],
   "source": [
    "runga(mdl::Module, islandCount=1, popSize=100, maxGenerations=100, numMigrate=0.1, migrationRate=2, tol=.1)"
   ]
  },
  {
   "cell_type": "code",
   "execution_count": 122,
   "metadata": {
    "collapsed": true
   },
   "outputs": [],
   "source": [
    "workspace()"
   ]
  },
  {
   "cell_type": "code",
   "execution_count": 95,
   "metadata": {
    "collapsed": false
   },
   "outputs": [
    {
     "name": "stdout",
     "output_type": "stream",
     "text": [
      "                          Base  27006 KB     Module\n",
      "                          Core   3258 KB     Module\n",
      "                      LastMain     33 KB     Module\n",
      "                          Main   3292 KB     Module\n",
      "                    ParallelGA     33 KB     Module\n"
     ]
    }
   ],
   "source": [
    "whos()"
   ]
  },
  {
   "cell_type": "code",
   "execution_count": 47,
   "metadata": {
    "collapsed": false
   },
   "outputs": [
    {
     "data": {
      "text/plain": [
       "5"
      ]
     },
     "execution_count": 47,
     "metadata": {},
     "output_type": "execute_result"
    }
   ],
   "source": [
    "countnz([-26,-36,33,-6,13])"
   ]
  },
  {
   "cell_type": "code",
   "execution_count": null,
   "metadata": {
    "collapsed": true
   },
   "outputs": [],
   "source": []
  }
 ],
 "metadata": {
  "kernelspec": {
   "display_name": "Julia 0.4.5",
   "language": "julia",
   "name": "julia-0.4"
  },
  "language_info": {
   "file_extension": ".jl",
   "mimetype": "application/julia",
   "name": "julia",
   "version": "0.4.5"
  }
 },
 "nbformat": 4,
 "nbformat_minor": 0
}
